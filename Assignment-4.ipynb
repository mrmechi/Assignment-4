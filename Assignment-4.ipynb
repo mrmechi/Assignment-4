{
 "cells": [
  {
   "cell_type": "markdown",
   "metadata": {},
   "source": [
    "# Python Assignement "
   ]
  },
  {
   "cell_type": "markdown",
   "metadata": {},
   "source": [
    "Write a Python Program(with class concepts) to find the area of the triangle using the below \n",
    "formula.\n",
    "area = (s*(s-a)*(s-b)*(s-c)) ** 0.5"
   ]
  },
  {
   "cell_type": "code",
   "execution_count": 23,
   "metadata": {},
   "outputs": [
    {
     "name": "stdout",
     "output_type": "stream",
     "text": [
      "a = 22\n",
      "b = 22\n",
      "c = 22\n",
      "area : 209.57814771583415\n"
     ]
    }
   ],
   "source": [
    "class poly:\n",
    "    def __init__(self, a, b, c):\n",
    "        self.a = a\n",
    "        self.b = b\n",
    "        self.c = c\n",
    "\n",
    "\n",
    "class triangle(poly):\n",
    "    def get_area(self):\n",
    "        s = (self.a + self.b + self.c) / 2\n",
    "        return float((s * (s - self.a) * (s - self.b) * (s - self.c))) ** 0.5\n",
    "\n",
    "\n",
    "a, b, c = float(input(\"a = \")), float(input(\"b = \")), float(input(\"c = \"))\n",
    "t = triangle(a, b, c)\n",
    "print(\"area : {}\".format(t.get_area()))"
   ]
  },
  {
   "cell_type": "code",
   "execution_count": null,
   "metadata": {},
   "outputs": [],
   "source": []
  },
  {
   "cell_type": "markdown",
   "metadata": {},
   "source": [
    "Write a Python program using function concept that maps list of words into a list of integers \n",
    "representing the lengths of the corresponding words.\n",
    "Hint: If a list [ ab,cde,erty] is passed on to the python function output should come as [2,3,4]\n",
    "Here 2,3 and 4 are the lengths of the words in the list"
   ]
  },
  {
   "cell_type": "code",
   "execution_count": 24,
   "metadata": {},
   "outputs": [
    {
     "name": "stdout",
     "output_type": "stream",
     "text": [
      "Enter any string! wsddddsdsdswwdw\n",
      "List of WORDS into a list of INTEGERS: [15]\n"
     ]
    }
   ],
   "source": [
    "WORDS=input('Enter any string! ').split()\n",
    "INTEGERS=[]\n",
    "\n",
    "for i in range (len(WORDS)):\n",
    "   INTEGERS.append(len(WORDS[i]))\n",
    "   \n",
    "print('List of WORDS into a list of INTEGERS: ' + str(INTEGERS))"
   ]
  },
  {
   "cell_type": "code",
   "execution_count": null,
   "metadata": {},
   "outputs": [],
   "source": []
  },
  {
   "cell_type": "markdown",
   "metadata": {},
   "source": [
    " Write a Python function which takes a character (i.e. a string of length 1) and returns True if \n",
    "it is a vowel, False otherwise"
   ]
  },
  {
   "cell_type": "code",
   "execution_count": null,
   "metadata": {},
   "outputs": [],
   "source": [
    "char=input('Enter a vowel: ')\n",
    "\n",
    "if char== 'a':\n",
    "    print(\"Yes it's a VOWEL\")\n",
    "elif char=='e':\n",
    "    print (\"Yes it's a VOWEL\")\n",
    "elif char=='i':\n",
    "    print (\"Yes it's a VOWEL\")\n",
    "elif char=='o':\n",
    "    print(\"Yes it's a VOWEL\")\n",
    "elif char=='u':\n",
    "    print(\"Yes! it's a VOWEL\")\n",
    "    \n",
    "else:\n",
    "    print(\"No! it's not a VOWEL\")"
   ]
  },
  {
   "cell_type": "code",
   "execution_count": null,
   "metadata": {},
   "outputs": [],
   "source": []
  }
 ],
 "metadata": {
  "kernelspec": {
   "display_name": "Python 3",
   "language": "python",
   "name": "python3"
  },
  "language_info": {
   "codemirror_mode": {
    "name": "ipython",
    "version": 3
   },
   "file_extension": ".py",
   "mimetype": "text/x-python",
   "name": "python",
   "nbconvert_exporter": "python",
   "pygments_lexer": "ipython3",
   "version": "3.8.5"
  }
 },
 "nbformat": 4,
 "nbformat_minor": 4
}
